{
 "cells": [
  {
   "cell_type": "code",
   "execution_count": 2,
   "metadata": {},
   "outputs": [
    {
     "data": {
      "text/html": [
       "<div>\n",
       "<style scoped>\n",
       "    .dataframe tbody tr th:only-of-type {\n",
       "        vertical-align: middle;\n",
       "    }\n",
       "\n",
       "    .dataframe tbody tr th {\n",
       "        vertical-align: top;\n",
       "    }\n",
       "\n",
       "    .dataframe thead th {\n",
       "        text-align: right;\n",
       "    }\n",
       "</style>\n",
       "<table border=\"1\" class=\"dataframe\">\n",
       "  <thead>\n",
       "    <tr style=\"text-align: right;\">\n",
       "      <th></th>\n",
       "      <th>artist_name</th>\n",
       "      <th>track_id</th>\n",
       "      <th>track_name</th>\n",
       "      <th>acousticness</th>\n",
       "      <th>danceability</th>\n",
       "      <th>duration_ms</th>\n",
       "      <th>energy</th>\n",
       "      <th>instrumentalness</th>\n",
       "      <th>key</th>\n",
       "      <th>liveness</th>\n",
       "      <th>loudness</th>\n",
       "      <th>mode</th>\n",
       "      <th>speechiness</th>\n",
       "      <th>tempo</th>\n",
       "      <th>time_signature</th>\n",
       "      <th>valence</th>\n",
       "      <th>popularity</th>\n",
       "    </tr>\n",
       "  </thead>\n",
       "  <tbody>\n",
       "    <tr>\n",
       "      <th>109532</th>\n",
       "      <td>Los Unidades</td>\n",
       "      <td>3eydp9rHJAskzOevEBK267</td>\n",
       "      <td>E-Lo (feat. Jozzy)</td>\n",
       "      <td>0.469</td>\n",
       "      <td>0.698</td>\n",
       "      <td>214720</td>\n",
       "      <td>0.797</td>\n",
       "      <td>0.00118</td>\n",
       "      <td>3</td>\n",
       "      <td>0.152</td>\n",
       "      <td>-5.125</td>\n",
       "      <td>0</td>\n",
       "      <td>0.0615</td>\n",
       "      <td>101.969</td>\n",
       "      <td>4</td>\n",
       "      <td>0.53</td>\n",
       "      <td>65</td>\n",
       "    </tr>\n",
       "  </tbody>\n",
       "</table>\n",
       "</div>"
      ],
      "text/plain": [
       "         artist_name                track_id          track_name  \\\n",
       "109532  Los Unidades  3eydp9rHJAskzOevEBK267  E-Lo (feat. Jozzy)   \n",
       "\n",
       "        acousticness  danceability  duration_ms  energy  instrumentalness  \\\n",
       "109532         0.469         0.698       214720   0.797           0.00118   \n",
       "\n",
       "        key  liveness  loudness  mode  speechiness    tempo  time_signature  \\\n",
       "109532    3     0.152    -5.125     0       0.0615  101.969               4   \n",
       "\n",
       "        valence  popularity  \n",
       "109532     0.53          65  "
      ]
     },
     "execution_count": 2,
     "metadata": {},
     "output_type": "execute_result"
    }
   ],
   "source": [
    "import numpy as np\n",
    "import matplotlib.pyplot as plt\n",
    "import pandas as pd\n",
    "import random\n",
    "%matplotlib inline\n",
    "dataset = pd.read_csv(r'C:\\Users\\KN\\Desktop\\MusicRecommendationSystem\\SpotifyAudioFeaturesNov2018.csv')\n",
    "dataset = dataset.sample(frac=0.1, random_state = 1)\n",
    "musicdata = dataset.pivot_table(index = 'artist_name',columns = 'track_name',values='popularity')\n",
    "dataset.sort_values('popularity',ascending=False).head(10)\n",
    "dataset.sort_values('popularity',ascending=False).iloc[:,-1]\n",
    "music_popularity1=dataset.loc[dataset['track_name'] ==random.choice(list(dataset['track_name']))]\n",
    "music_popularity2=dataset.loc[dataset['track_name'] ==random.choice(list(dataset['track_name']))]\n",
    "music_popularity2"
   ]
  }
 ],
 "metadata": {
  "kernelspec": {
   "display_name": "Python 3 (ipykernel)",
   "language": "python",
   "name": "python3"
  },
  "language_info": {
   "codemirror_mode": {
    "name": "ipython",
    "version": 3
   },
   "file_extension": ".py",
   "mimetype": "text/x-python",
   "name": "python",
   "nbconvert_exporter": "python",
   "pygments_lexer": "ipython3",
   "version": "3.11.0"
  }
 },
 "nbformat": 4,
 "nbformat_minor": 2
}
