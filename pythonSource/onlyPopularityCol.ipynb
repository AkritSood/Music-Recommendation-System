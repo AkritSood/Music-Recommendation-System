{
 "cells": [
  {
   "cell_type": "code",
   "execution_count": 1,
   "metadata": {},
   "outputs": [
    {
     "data": {
      "text/plain": [
       "109540    96\n",
       "109550    92\n",
       "109862    90\n",
       "109632    90\n",
       "109600    89\n",
       "          ..\n",
       "23627      0\n",
       "81667      0\n",
       "29127      0\n",
       "94011      0\n",
       "29796      0\n",
       "Name: popularity, Length: 11637, dtype: int64"
      ]
     },
     "execution_count": 1,
     "metadata": {},
     "output_type": "execute_result"
    }
   ],
   "source": [
    "import numpy as np\n",
    "import matplotlib.pyplot as plt\n",
    "import pandas as pd\n",
    "%matplotlib inline\n",
    "dataset = pd.read_csv(r'C:\\Users\\KN\\Desktop\\MusicRecommendationSystem\\SpotifyAudioFeaturesNov2018.csv')\n",
    "dataset = dataset.sample(frac=0.1, random_state = 1)\n",
    "musicdata = dataset.pivot_table(index = 'artist_name',columns = 'track_name',values='popularity')\n",
    "dataset.sort_values('popularity',ascending=False).head(10)\n",
    "dataset.sort_values('popularity',ascending=False).iloc[:,-1]"
   ]
  }
 ],
 "metadata": {
  "kernelspec": {
   "display_name": "Python 3",
   "language": "python",
   "name": "python3"
  },
  "language_info": {
   "codemirror_mode": {
    "name": "ipython",
    "version": 3
   },
   "file_extension": ".py",
   "mimetype": "text/x-python",
   "name": "python",
   "nbconvert_exporter": "python",
   "pygments_lexer": "ipython3",
   "version": "3.11.0"
  }
 },
 "nbformat": 4,
 "nbformat_minor": 2
}
